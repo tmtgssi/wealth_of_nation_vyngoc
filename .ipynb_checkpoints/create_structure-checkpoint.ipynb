{
 "cells": [
  {
   "cell_type": "code",
   "execution_count": 3,
   "id": "035d9d7d-6049-4559-8ed7-84e0bebdac2f",
   "metadata": {},
   "outputs": [
    {
     "name": "stdout",
     "output_type": "stream",
     "text": [
      "Project created at: C:\\Users\\E7250\\Documents\\VYNGOC_BIBE\\project_python\\wealth_of_nations\n"
     ]
    }
   ],
   "source": [
    "# Import Path class from the pathlib module for handling filesystem paths in an object-oriented way\n",
    "from pathlib import Path\n",
    "\n",
    "# Define the desired folder and file structure for the project in a nested dictionary\n",
    "project_structure = {\n",
    "    # This is the README file with a short project description\n",
    "    \"README.md\": \"# Wealth of Nations\\n\\nThis project explores the relationship between GDP per capita and life expectancy across nations using World Bank data.\\n\",\n",
    "\n",
    "    # This file lists the required libraries and their versions\n",
    "    \"requirements.txt\": \"\\n\".join([\n",
    "        \"pandas==2.0.3\",\n",
    "        \"numpy==1.26.2\",\n",
    "        \"matplotlib==3.8.0\",\n",
    "        \"seaborn==0.12.2\",\n",
    "        \"wbgapi==1.1.1\",\n",
    "        \"streamlit==1.29.0\"\n",
    "    ]),\n",
    "\n",
    "    # Placeholder for the main analysis script (can be used for testing or scripting)\n",
    "    \"main.py\": \"\", \n",
    "\n",
    "    # Placeholder for the Streamlit web application\n",
    "    \"app.py\": \"\",  \n",
    "\n",
    "    # The \"src\" folder will hold all source code in modular format\n",
    "    \"src\": {\n",
    "        \"__init__.py\": \"\",                # Marks \"src\" as a Python package\n",
    "        \"data_loader.py\": \"\",            # For loading data from API or files\n",
    "        \"data_processing.py\": \"\",        # For cleaning and transforming data\n",
    "        \"analysis.py\": \"\",               # For doing computations or statistical analysis\n",
    "        \"visualization.py\": \"\"           # For generating plots/visualizations\n",
    "    },\n",
    "\n",
    "    # Empty \"data\" folder to store local data files (e.g., CSVs if needed)\n",
    "    \"data\": {}\n",
    "}\n",
    "\n",
    "# Define a function to recursively create the above folder and file structure\n",
    "def create_project_structure(base_path, structure):\n",
    "    for name, content in structure.items():  # Loop through each item in the structure\n",
    "        path = base_path / name              # Create a full path for the item\n",
    "        if isinstance(content, dict):        # If the item is a subfolder (dictionary)\n",
    "            path.mkdir(parents=True, exist_ok=True)  # Create the directory (and parents if needed)\n",
    "            create_project_structure(path, content)  # Recursively create subfolders/files\n",
    "        else:\n",
    "            path.write_text(content)         # If it's a file, create it and write the content\n",
    "\n",
    "# Set the base folder where the project will be created (in the current working directory)\n",
    "project_folder = Path.cwd() / \"wealth_of_nations\"\n",
    "\n",
    "# Call the function to create the full project structure\n",
    "create_project_structure(project_folder, project_structure)\n",
    "\n",
    "# Print a message with the path where the project was created\n",
    "print(f\"Project created at: {project_folder}\")\n"
   ]
  },
  {
   "cell_type": "raw",
   "id": "ca4f5a82-43b9-451b-80dd-a5e9e8c4ea3e",
   "metadata": {},
   "source": [
    "Phân tích mối quan hệ giữa GDP bình quân đầu người và tuổi thọ trung bình của các quốc gia dựa trên dữ liệu từ Ngân hàng Thế giới (World Bank).\n",
    "Các bước anh làm:\n",
    "Tải dữ liệu từ World Bank (GDP và tuổi thọ theo từng quốc gia, từng năm).\n",
    "Xử lý dữ liệu: chuyển đổi dữ liệu từ dạng \"dài\" (mỗi dòng là một chỉ số - indicator - cho một năm) sang dạng \"rộng\" để có cột riêng cho GDP và tuổi thọ.\n",
    "Phân tích dữ liệu: tính toán giá trị trung bình GDP và tuổi thọ theo từng quốc gia.\n",
    "Trực quan hóa: tạo biểu đồ thể hiện mối quan hệ giữa GDP và tuổi thọ trung bình để dễ dàng nhìn thấy xu hướng, ví dụ: quốc gia có GDP cao thường có tuổi thọ cao hơn.\n",
    "Tổ chức dự án rõ ràng thành các module (file riêng biệt) để dễ quản lý, mở rộng và tái sử dụng."
   ]
  }
 ],
 "metadata": {
  "kernelspec": {
   "display_name": "Python 3 (ipykernel)",
   "language": "python",
   "name": "python3"
  },
  "language_info": {
   "codemirror_mode": {
    "name": "ipython",
    "version": 3
   },
   "file_extension": ".py",
   "mimetype": "text/x-python",
   "name": "python",
   "nbconvert_exporter": "python",
   "pygments_lexer": "ipython3",
   "version": "3.12.4"
  }
 },
 "nbformat": 4,
 "nbformat_minor": 5
}
